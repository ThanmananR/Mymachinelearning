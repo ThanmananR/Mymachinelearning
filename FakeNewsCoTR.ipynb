{
  "nbformat": 4,
  "nbformat_minor": 0,
  "metadata": {
    "colab": {
      "provenance": [],
      "authorship_tag": "ABX9TyOL4DUBRaltxMVsn7YWsunW",
      "include_colab_link": true
    },
    "kernelspec": {
      "name": "python3",
      "display_name": "Python 3"
    },
    "language_info": {
      "name": "python"
    }
  },
  "cells": [
    {
      "cell_type": "markdown",
      "metadata": {
        "id": "view-in-github",
        "colab_type": "text"
      },
      "source": [
        "<a href=\"https://colab.research.google.com/github/ThanmananR/Mymachinelearning/blob/main/FakeNewsCoTR.ipynb\" target=\"_parent\"><img src=\"https://colab.research.google.com/assets/colab-badge.svg\" alt=\"Open In Colab\"/></a>"
      ]
    },
    {
      "cell_type": "code",
      "execution_count": null,
      "metadata": {
        "id": "HGZE-W1YB_RX"
      },
      "outputs": [],
      "source": [
        "import numpy as np\n",
        "from sklearn.feature_extraction.text import CountVectorizer, TfidfVectorizer\n",
        "from sklearn.naive_bayes import MultinomialNB"
      ]
    },
    {
      "cell_type": "code",
      "source": [
        "\n",
        "texts = [\n",
        "    \"Government announces new economic reforms\",            # Real\n",
        "    \"Scientists discover water on Mars\",                    # Real\n",
        "    \"Aliens seen walking in New York City\",                 # Fake\n",
        "    \"Man turns into a werewolf under moonlight\",            # Fake\n",
        "    \"New law passed to improve healthcare access\",          # Real\n",
        "    \"Vaccines help reduce virus spread\",                    # Real\n",
        "    \"Bill Gates controls minds with microchips\",            # Fake\n",
        "    \"Cure for cancer found in garden herb\",                 # Fake\n",
        "    \"New education policy praised by teachers\",             # Real\n",
        "    \"Elvis Presley found alive in secret island\",           # Fake\n",
        "]\n",
        "\n",
        "labels = [1, 1, 0, 0, 1, 1, 0, 0, 1, 0]  # 1 = Real, 0 = Fake"
      ],
      "metadata": {
        "id": "1N75QvggB_1J"
      },
      "execution_count": null,
      "outputs": []
    },
    {
      "cell_type": "code",
      "source": [
        "\n",
        "X_labeled_texts = [\n",
        "    \"Government announces new economic reforms\",  # Real\n",
        "    \"Aliens seen walking in New York City\",       # Fake\n",
        "    \"Vaccines help reduce virus spread\",          # Real\n",
        "    \"Man turns into a werewolf under moonlight\"   # Fake\n",
        "]\n",
        "y_labeled = [1, 0, 1, 0]\n",
        "\n",
        "X_unlabeled_texts = [\n",
        "    \"Scientists discover water on Mars\",\n",
        "    \"Bill Gates controls minds with microchips\",\n",
        "    \"New law passed to improve healthcare access\",\n",
        "    \"Cure for cancer found in garden herb\",\n",
        "    \"New education policy praised by teachers\",\n",
        "    \"Elvis Presley found alive in secret island\"\n",
        "]"
      ],
      "metadata": {
        "id": "xwxLwzdBB_3r"
      },
      "execution_count": null,
      "outputs": []
    },
    {
      "cell_type": "code",
      "source": [
        "# Create two feature views: CountVectorizer and TfidfVectorizer\n",
        "vectorizer1 = CountVectorizer()\n",
        "vectorizer2 = TfidfVectorizer()\n",
        "\n",
        "X1_labeled = vectorizer1.fit_transform(X_labeled_texts)\n",
        "X2_labeled = vectorizer2.fit_transform(X_labeled_texts)\n",
        "\n",
        "X1_unlabeled = vectorizer1.transform(X_unlabeled_texts)\n",
        "X2_unlabeled = vectorizer2.transform(X_unlabeled_texts)"
      ],
      "metadata": {
        "id": "xskiVzBxB_6W"
      },
      "execution_count": null,
      "outputs": []
    },
    {
      "cell_type": "code",
      "source": [
        "# Initialize classifiers for both views\n",
        "model1 = MultinomialNB()\n",
        "model2 = MultinomialNB()"
      ],
      "metadata": {
        "id": "NITMnyG7B_9q"
      },
      "execution_count": null,
      "outputs": []
    },
    {
      "cell_type": "code",
      "source": [
        "# Co-training process\n",
        "for round_num in range(3):\n",
        "    print(f\"\\n🔁 Round {round_num + 1}\")\n",
        "    model1.fit(X1_labeled, y_labeled)\n",
        "    model2.fit(X2_labeled, y_labeled)\n",
        "\n",
        "    probs1 = model1.predict_proba(X1_unlabeled)\n",
        "    probs2 = model2.predict_proba(X2_unlabeled)\n",
        "\n",
        "    confident_idx = []\n",
        "    for i, (p1, p2) in enumerate(zip(probs1, probs2)):\n",
        "        if max(p1) > 0.9 and max(p2) > 0.9 and np.argmax(p1) == np.argmax(p2):\n",
        "            confident_idx.append(i)\n",
        "\n",
        "    if not confident_idx:\n",
        "        print(\"🔁 No confident samples this round.\")\n",
        "        break\n",
        "\n",
        "    X1_new = X1_unlabeled[confident_idx]\n",
        "    X2_new = X2_unlabeled[confident_idx]\n",
        "    y_new = model1.predict(X1_new)\n",
        "\n",
        "    X1_labeled = np.vstack([X1_labeled.toarray(), X2_new.toarray()])\n",
        "    X2_labeled = np.vstack([X2_labeled.toarray(), X1_new.toarray()])\n",
        "    y_labeled = np.concatenate([y_labeled, y_new])\n",
        "\n",
        "    remaining = [i for i in range(X1_unlabeled.shape[0]) if i not in confident_idx]\n",
        "    X1_unlabeled = X1_unlabeled[remaining]\n",
        "    X2_unlabeled = X2_unlabeled[remaining]\n",
        "\n",
        "    print(f\"✅ Added {len(confident_idx)} new samples.\")"
      ],
      "metadata": {
        "colab": {
          "base_uri": "https://localhost:8080/"
        },
        "id": "pecMeW0_CjbT",
        "outputId": "5dfc7036-6395-425f-c973-98af2b10c0fe"
      },
      "execution_count": null,
      "outputs": [
        {
          "output_type": "stream",
          "name": "stdout",
          "text": [
            "\n",
            "🔁 Round 1\n",
            "🔁 No confident samples this round.\n"
          ]
        }
      ]
    },
    {
      "cell_type": "code",
      "source": [
        "# Test the trained model on new sample texts\n",
        "test_texts = [\n",
        "    \"President announces plans for clean energy\",\n",
        "    \"Time traveler arrested in 2030 by FBI\",\n",
        "    \"Doctors recommend more vegetables in diet\",\n",
        "    \"Alien spaceship seen flying over White House\"\n",
        "]\n",
        "\n",
        "X1_test = vectorizer1.transform(test_texts)\n",
        "y_pred = model1.predict(X1_test)\n",
        "\n",
        "print(\"\\n🔍 Predictions on new data:\")\n",
        "for text, pred in zip(test_texts, y_pred):\n",
        "    print(f\"{text} => {'REAL' if pred == 1 else 'FAKE'}\")"
      ],
      "metadata": {
        "colab": {
          "base_uri": "https://localhost:8080/"
        },
        "id": "gpVSV1vFCjeB",
        "outputId": "797f5afd-d953-45ac-c772-1e794cb05017"
      },
      "execution_count": null,
      "outputs": [
        {
          "output_type": "stream",
          "name": "stdout",
          "text": [
            "\n",
            "🔍 Predictions on new data:\n",
            "President announces plans for clean energy => REAL\n",
            "Time traveler arrested in 2030 by FBI => FAKE\n",
            "Doctors recommend more vegetables in diet => FAKE\n",
            "Alien spaceship seen flying over White House => FAKE\n"
          ]
        }
      ]
    },
    {
      "cell_type": "code",
      "source": [],
      "metadata": {
        "id": "6SvsmZ33Cjg8"
      },
      "execution_count": null,
      "outputs": []
    }
  ]
}