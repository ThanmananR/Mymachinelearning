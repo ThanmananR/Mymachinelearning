{
  "cells": [
    {
      "cell_type": "markdown",
      "metadata": {},
      "source": [
        "# \ud83c\udfa8 AI Art Critic\n",
        "Upload art \u2192 AI gives feedback and style classification."
      ]
    },
    {
      "cell_type": "code",
      "metadata": {},
      "source": "!pip install gradio torchvision torch"
    },
    {
      "cell_type": "code",
      "metadata": {},
      "source": "import torch\nimport torchvision.transforms as transforms\nfrom PIL import Image\nimport gradio as gr\n\nstyles = ['Abstract', 'Impressionism', 'Cubism', 'Realism']\ndef dummy_style_predict(img):\n    return {style: float(torch.rand(1)) for style in styles}"
    },
    {
      "cell_type": "code",
      "metadata": {},
      "source": "gr.Interface(\n    fn=dummy_style_predict,\n    inputs=gr.Image(type=\"pil\"),\n    outputs=gr.Label(num_top_classes=4),\n    title=\"\ud83c\udfa8 AI Art Critic\"\n).launch()"
    }
  ],
  "metadata": {
    "kernelspec": {
      "display_name": "Python 3",
      "language": "python",
      "name": "python3"
    },
    "language_info": {
      "name": "python",
      "version": "3.x"
    }
  },
  "nbformat": 4,
  "nbformat_minor": 5
}