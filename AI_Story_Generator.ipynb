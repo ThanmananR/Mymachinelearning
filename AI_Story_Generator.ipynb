{
  "cells": [
    {
      "cell_type": "markdown",
      "metadata": {},
      "source": [
        "# \ud83c\udf99\ufe0f AI Story Generator with Voice Input\n",
        "Speak or type a prompt \u2192 AI generates a story \u2192 Reads it aloud."
      ]
    },
    {
      "cell_type": "code",
      "metadata": {},
      "source": "!pip install gradio gTTS transformers"
    },
    {
      "cell_type": "code",
      "metadata": {},
      "source": "from transformers import pipeline\nfrom gtts import gTTS\nimport gradio as gr\n\nstory_gen = pipeline(\"text-generation\", model=\"gpt2\")"
    },
    {
      "cell_type": "code",
      "metadata": {},
      "source": "def generate_story(prompt):\n    story = story_gen(prompt, max_length=200, num_return_sequences=1)[0]['generated_text']\n    tts = gTTS(text=story)\n    tts.save(\"story.mp3\")\n    return story, \"story.mp3\""
    },
    {
      "cell_type": "code",
      "metadata": {},
      "source": "gr.Interface(\n    fn=generate_story,\n    inputs=gr.Textbox(lines=2, label=\"Speak or Type a Prompt\"),\n    outputs=[gr.Textbox(label=\"Generated Story\"), gr.Audio(label=\"Story Narration\")],\n    title=\"\ud83c\udf99\ufe0f AI Story Generator\"\n).launch()"
    }
  ],
  "metadata": {
    "kernelspec": {
      "display_name": "Python 3",
      "language": "python",
      "name": "python3"
    },
    "language_info": {
      "name": "python",
      "version": "3.x"
    }
  },
  "nbformat": 4,
  "nbformat_minor": 5
}