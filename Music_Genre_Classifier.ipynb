{
  "cells": [
    {
      "cell_type": "markdown",
      "metadata": {},
      "source": [
        "# \ud83c\udfa7 Music Genre Classifier\n",
        "Upload audio \u2192 Model classifies it into genres."
      ]
    },
    {
      "cell_type": "code",
      "metadata": {},
      "source": "!pip install gradio librosa scikit-learn numpy"
    },
    {
      "cell_type": "code",
      "metadata": {},
      "source": "import librosa\nimport numpy as np\nfrom sklearn.ensemble import RandomForestClassifier\nimport gradio as gr\n\ngenres = ['pop', 'rock', 'hiphop', 'jazz']\nmodel = RandomForestClassifier()\nmodel.fit(np.random.rand(20, 20), np.random.choice(genres, 20))"
    },
    {
      "cell_type": "code",
      "metadata": {},
      "source": "def classify_genre(audio):\n    y, sr = librosa.load(audio, duration=30)\n    mfcc = librosa.feature.mfcc(y=y, sr=sr, n_mfcc=20)\n    mfcc_mean = np.mean(mfcc.T, axis=0).reshape(1, -1)\n    pred = model.predict(mfcc_mean)[0]\n    return pred"
    },
    {
      "cell_type": "code",
      "metadata": {},
      "source": "gr.Interface(\n    fn=classify_genre,\n    inputs=gr.Audio(type=\"filepath\", label=\"Upload a 30-sec Music Clip\"),\n    outputs=gr.Label(num_top_classes=1),\n    title=\"\ud83c\udfa7 Music Genre Classifier\"\n).launch()"
    }
  ],
  "metadata": {
    "kernelspec": {
      "display_name": "Python 3",
      "language": "python",
      "name": "python3"
    },
    "language_info": {
      "name": "python",
      "version": "3.x"
    }
  },
  "nbformat": 4,
  "nbformat_minor": 5
}